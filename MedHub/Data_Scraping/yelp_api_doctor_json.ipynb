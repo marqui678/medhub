{
 "cells": [
  {
   "cell_type": "markdown",
   "metadata": {},
   "source": [
    "**I modified this to get 1000 doctors for SF; saved into 'yelp_1000_doc_sf.json'**\n",
    "\n",
    "#### Yelp Fusion API      \n",
    "1. https://github.com/Yelp/yelp-fusion/tree/master/fusion/python     \n",
    "2. $pip install -r requirements.txt\n",
    "3. By default, you’ll receive 25,000 calls per day. If you expect to hit this rate limit, please contact api@yelp.com with links to or screenshots of your app or website.      \n",
    "https://www.yelp.com/developers/faq"
   ]
  },
  {
   "cell_type": "markdown",
   "metadata": {},
   "source": [
    "### confidentials I created for our MedHub app\n",
    "App ID: ezS3PAsVkMfPq5bqVvAXUg      \n",
    "App Secret: zZIaiWTiyuUvuXM7EYMUvxt52jdKVftFl5TjIR4ByCt2rwzR9txyzV0EkkmHlJJt"
   ]
  },
  {
   "cell_type": "code",
   "execution_count": 44,
   "metadata": {
    "collapsed": true
   },
   "outputs": [],
   "source": [
    "# OAuth credential placeholders that must be filled in by users.\n",
    "# You can find them on\n",
    "# https://www.yelp.com/developers/v3/manage_app\n",
    "CLIENT_ID = 'ezS3PAsVkMfPq5bqVvAXUg'\n",
    "CLIENT_SECRET = 'zZIaiWTiyuUvuXM7EYMUvxt52jdKVftFl5TjIR4ByCt2rwzR9txyzV0EkkmHlJJt'"
   ]
  },
  {
   "cell_type": "code",
   "execution_count": 45,
   "metadata": {
    "collapsed": true
   },
   "outputs": [],
   "source": [
    "from __future__ import print_function\n",
    "\n",
    "import json\n",
    "import pprint\n",
    "import requests\n",
    "import sys\n",
    "import urllib\n",
    "\n",
    "from urllib2 import HTTPError\n",
    "from urllib import quote\n",
    "from urllib import urlencode"
   ]
  },
  {
   "cell_type": "code",
   "execution_count": 46,
   "metadata": {
    "collapsed": true
   },
   "outputs": [],
   "source": [
    "# API constants, you shouldn't have to change these.\n",
    "API_HOST = 'https://api.yelp.com'\n",
    "SEARCH_PATH = '/v3/businesses/search'\n",
    "BUSINESS_PATH = '/v3/businesses/'  # Business ID will come after slash.\n",
    "TOKEN_PATH = '/oauth2/token'\n",
    "GRANT_TYPE = 'client_credentials'"
   ]
  },
  {
   "cell_type": "markdown",
   "metadata": {},
   "source": [
    "### Yelp functions"
   ]
  },
  {
   "cell_type": "code",
   "execution_count": 47,
   "metadata": {
    "collapsed": false
   },
   "outputs": [],
   "source": [
    "def obtain_bearer_token(host, path):\n",
    "    \"\"\"Given a bearer token, send a GET request to the API.\n",
    "\n",
    "    Args:\n",
    "        host (str): The domain host of the API.\n",
    "        path (str): The path of the API after the domain.\n",
    "        url_params (dict): An optional set of query parameters in the request.\n",
    "\n",
    "    Returns:\n",
    "        str: OAuth bearer token, obtained using client_id and client_secret.\n",
    "\n",
    "    Raises:\n",
    "        HTTPError: An error occurs from the HTTP request.\n",
    "    \"\"\"\n",
    "    url = '{0}{1}'.format(host, quote(path.encode('utf8')))\n",
    "    assert CLIENT_ID, \"Please supply your client_id.\"\n",
    "    assert CLIENT_SECRET, \"Please supply your client_secret.\"\n",
    "    data = urlencode({\n",
    "        'client_id': CLIENT_ID,\n",
    "        'client_secret': CLIENT_SECRET,\n",
    "        'grant_type': GRANT_TYPE,\n",
    "    })\n",
    "    headers = {\n",
    "        'content-type': 'application/x-www-form-urlencoded',\n",
    "    }\n",
    "    response = requests.request('POST', url, data=data, headers=headers)\n",
    "    bearer_token = response.json()['access_token']\n",
    "    return bearer_token\n",
    "\n",
    "\n",
    "def request(host, path, bearer_token, url_params=None):\n",
    "    \"\"\"Given a bearer token, send a GET request to the API.\n",
    "\n",
    "    Args:\n",
    "        host (str): The domain host of the API.\n",
    "        path (str): The path of the API after the domain.\n",
    "        bearer_token (str): OAuth bearer token, obtained using client_id and client_secret.\n",
    "        url_params (dict): An optional set of query parameters in the request.\n",
    "\n",
    "    Returns:\n",
    "        dict: The JSON response from the request.\n",
    "\n",
    "    Raises:\n",
    "        HTTPError: An error occurs from the HTTP request.\n",
    "    \"\"\"\n",
    "    url_params = url_params or {}\n",
    "    url = '{0}{1}'.format(host, quote(path.encode('utf8')))\n",
    "    headers = {\n",
    "        'Authorization': 'Bearer %s' % bearer_token,\n",
    "    }\n",
    "\n",
    "    #print(u'Querying {0} ...'.format(url))\n",
    "\n",
    "    response = requests.request('GET', url, headers=headers, params=url_params)\n",
    "\n",
    "    return response.json()\n",
    "\n",
    "\n",
    "def search(bearer_token, term, location, off):\n",
    "    \"\"\"Query the Search API by a search term and location.\n",
    "\n",
    "    Args:\n",
    "        term (str): The search term passed to the API.\n",
    "        location (str): The search location passed to the API.\n",
    "\n",
    "    Returns:\n",
    "        dict: The JSON response from the request.\n",
    "    \"\"\"\n",
    "    \n",
    "    url_params = {\n",
    "        'term': term.replace(' ', '+'),\n",
    "        'location': location.replace(' ', '+'),\n",
    "        'limit': 50,\n",
    "        'offset': off\n",
    "    }\n",
    "    return request(API_HOST, SEARCH_PATH, bearer_token, url_params=url_params)\n",
    "\n",
    "\n",
    "def get_business(bearer_token, business_id):\n",
    "    \"\"\"Query the Business API by a business ID.\n",
    "\n",
    "    Args:\n",
    "        business_id (str): The ID of the business to query.\n",
    "\n",
    "    Returns:\n",
    "        dict: The JSON response from the request.\n",
    "    \"\"\"\n",
    "    business_path = BUSINESS_PATH + business_id\n",
    "\n",
    "    return request(API_HOST, business_path, bearer_token)\n",
    "\n",
    "\n",
    "def query_api_json(term, location, outputfile, search_limit):\n",
    "    \"\"\"Queries the API by the input values from the user.\n",
    "\n",
    "    Args:\n",
    "        term (str): The search term to query.\n",
    "        location (str): The location of the business to query.\n",
    "    \"\"\"\n",
    "    bearer_token = obtain_bearer_token(API_HOST, TOKEN_PATH)\n",
    "    \n",
    "    for off in range(0, search_limit, 50):\n",
    "        print(u'Result saved into json: No.{0} :'.format(off + 1))\n",
    "        response = search(bearer_token, term, location, off)\n",
    "\n",
    "        businesses = response.get('businesses')\n",
    "\n",
    "        if not businesses:\n",
    "            #print(u'No businesses for \"{0}\" in \"{1}\" found.'.format(term, location))\n",
    "            return\n",
    "        else:\n",
    "            print(u'{0} businesses found, querying business info'.format(len(businesses)))\n",
    "            f = open(outputfile, 'a')\n",
    "            #count = 1\n",
    "            for b in businesses:\n",
    "                #if count % 10 == 1: print(u'Result saved into json: No.{0} :'.format(count))\n",
    "                business_id = b['id']\n",
    "                try:\n",
    "                    response = get_business(bearer_token, business_id)\n",
    "                    #print(u'Result for business {0} saved into json:'.format(business_id))\n",
    "                    json.dump(response, f)\n",
    "                    f.write(\"\\n\")\n",
    "                    #count += 1\n",
    "                except:\n",
    "                    pass\n",
    "            print(u'Done... {0} businesses have been added to the json file'.format(len(businesses)))\n",
    "            f.close()"
   ]
  },
  {
   "cell_type": "markdown",
   "metadata": {},
   "source": [
    "### Save jsons to the same file"
   ]
  },
  {
   "cell_type": "code",
   "execution_count": 48,
   "metadata": {
    "collapsed": true
   },
   "outputs": [],
   "source": [
    "# Defaults for our simple example.\n",
    "term = 'doctor'\n",
    "location = 'San Francisco, CA'\n",
    "SEARCH_LIMIT = 1000"
   ]
  },
  {
   "cell_type": "code",
   "execution_count": 49,
   "metadata": {
    "collapsed": false
   },
   "outputs": [
    {
     "name": "stdout",
     "output_type": "stream",
     "text": [
      "Result saved into json: No.1 :\n",
      "50 businesses found, querying business info\n",
      "Done... 50 businesses have been added to the json file\n",
      "Result saved into json: No.51 :\n",
      "50 businesses found, querying business info\n",
      "Done... 50 businesses have been added to the json file\n",
      "Result saved into json: No.101 :\n",
      "50 businesses found, querying business info\n",
      "Done... 50 businesses have been added to the json file\n",
      "Result saved into json: No.151 :\n",
      "50 businesses found, querying business info\n",
      "Done... 50 businesses have been added to the json file\n",
      "Result saved into json: No.201 :\n",
      "50 businesses found, querying business info\n",
      "Done... 50 businesses have been added to the json file\n",
      "Result saved into json: No.251 :\n",
      "50 businesses found, querying business info\n",
      "Done... 50 businesses have been added to the json file\n",
      "Result saved into json: No.301 :\n",
      "50 businesses found, querying business info\n",
      "Done... 50 businesses have been added to the json file\n",
      "Result saved into json: No.351 :\n",
      "50 businesses found, querying business info\n",
      "Done... 50 businesses have been added to the json file\n",
      "Result saved into json: No.401 :\n",
      "50 businesses found, querying business info\n",
      "Done... 50 businesses have been added to the json file\n",
      "Result saved into json: No.451 :\n",
      "50 businesses found, querying business info\n",
      "Done... 50 businesses have been added to the json file\n",
      "Result saved into json: No.501 :\n",
      "50 businesses found, querying business info\n",
      "Done... 50 businesses have been added to the json file\n",
      "Result saved into json: No.551 :\n",
      "50 businesses found, querying business info\n",
      "Done... 50 businesses have been added to the json file\n",
      "Result saved into json: No.601 :\n",
      "50 businesses found, querying business info\n",
      "Done... 50 businesses have been added to the json file\n",
      "Result saved into json: No.651 :\n",
      "50 businesses found, querying business info\n",
      "Done... 50 businesses have been added to the json file\n",
      "Result saved into json: No.701 :\n",
      "50 businesses found, querying business info\n",
      "Done... 50 businesses have been added to the json file\n",
      "Result saved into json: No.751 :\n",
      "50 businesses found, querying business info\n",
      "Done... 50 businesses have been added to the json file\n",
      "Result saved into json: No.801 :\n",
      "50 businesses found, querying business info\n",
      "Done... 50 businesses have been added to the json file\n",
      "Result saved into json: No.851 :\n",
      "50 businesses found, querying business info\n",
      "Done... 50 businesses have been added to the json file\n",
      "Result saved into json: No.901 :\n",
      "50 businesses found, querying business info\n",
      "Done... 50 businesses have been added to the json file\n",
      "Result saved into json: No.951 :\n",
      "50 businesses found, querying business info\n",
      "Done... 50 businesses have been added to the json file\n"
     ]
    }
   ],
   "source": [
    "try:\n",
    "    query_api_json(term, location, 'yelp_1000_doc_sf.json', SEARCH_LIMIT)\n",
    "except HTTPError as error:\n",
    "    sys.exit(\n",
    "        'Encountered HTTP error {0} on {1}:\\n {2}\\nAbort program.'.format(\n",
    "            error.code,\n",
    "            error.url,\n",
    "            error.read(),\n",
    "        )\n",
    "    )"
   ]
  },
  {
   "cell_type": "code",
   "execution_count": null,
   "metadata": {
    "collapsed": true
   },
   "outputs": [],
   "source": []
  }
 ],
 "metadata": {
  "kernelspec": {
   "display_name": "Python 2",
   "language": "python",
   "name": "python2"
  },
  "language_info": {
   "codemirror_mode": {
    "name": "ipython",
    "version": 2
   },
   "file_extension": ".py",
   "mimetype": "text/x-python",
   "name": "python",
   "nbconvert_exporter": "python",
   "pygments_lexer": "ipython2",
   "version": "2.7.13"
  }
 },
 "nbformat": 4,
 "nbformat_minor": 2
}
