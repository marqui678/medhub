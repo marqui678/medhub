{
 "cells": [
  {
   "cell_type": "markdown",
   "metadata": {},
   "source": [
    "#### Yelp Fusion API      \n",
    "1. https://github.com/Yelp/yelp-fusion/tree/master/fusion/python     \n",
    "2. $pip install -r requirements.txt\n",
    "3. By default, you’ll receive 25,000 calls per day. If you expect to hit this rate limit, please contact api@yelp.com with links to or screenshots of your app or website.      \n",
    "https://www.yelp.com/developers/faq"
   ]
  },
  {
   "cell_type": "markdown",
   "metadata": {},
   "source": [
    "### confidentials\n",
    "App ID: ezS3PAsVkMfPq5bqVvAXUg      \n",
    "App Secret: zZIaiWTiyuUvuXM7EYMUvxt52jdKVftFl5TjIR4ByCt2rwzR9txyzV0EkkmHlJJt"
   ]
  },
  {
   "cell_type": "code",
   "execution_count": 1,
   "metadata": {
    "collapsed": true
   },
   "outputs": [],
   "source": [
    "# OAuth credential placeholders that must be filled in by users.\n",
    "# You can find them on\n",
    "# https://www.yelp.com/developers/v3/manage_app\n",
    "CLIENT_ID = 'ezS3PAsVkMfPq5bqVvAXUg'\n",
    "CLIENT_SECRET = 'zZIaiWTiyuUvuXM7EYMUvxt52jdKVftFl5TjIR4ByCt2rwzR9txyzV0EkkmHlJJt'"
   ]
  },
  {
   "cell_type": "code",
   "execution_count": 2,
   "metadata": {
    "collapsed": true
   },
   "outputs": [],
   "source": [
    "from __future__ import print_function\n",
    "\n",
    "import json\n",
    "import pprint\n",
    "import requests\n",
    "import sys\n",
    "import urllib\n",
    "\n",
    "from urllib2 import HTTPError\n",
    "from urllib import quote\n",
    "from urllib import urlencode"
   ]
  },
  {
   "cell_type": "code",
   "execution_count": 3,
   "metadata": {
    "collapsed": true
   },
   "outputs": [],
   "source": [
    "# API constants, you shouldn't have to change these.\n",
    "API_HOST = 'https://api.yelp.com'\n",
    "SEARCH_PATH = '/v3/businesses/search'\n",
    "BUSINESS_PATH = '/v3/businesses/'  # Business ID will come after slash.\n",
    "TOKEN_PATH = '/oauth2/token'\n",
    "GRANT_TYPE = 'client_credentials'"
   ]
  },
  {
   "cell_type": "markdown",
   "metadata": {},
   "source": [
    "### Yelp functions"
   ]
  },
  {
   "cell_type": "code",
   "execution_count": 4,
   "metadata": {
    "collapsed": true
   },
   "outputs": [],
   "source": [
    "def obtain_bearer_token(host, path):\n",
    "    \"\"\"Given a bearer token, send a GET request to the API.\n",
    "\n",
    "    Args:\n",
    "        host (str): The domain host of the API.\n",
    "        path (str): The path of the API after the domain.\n",
    "        url_params (dict): An optional set of query parameters in the request.\n",
    "\n",
    "    Returns:\n",
    "        str: OAuth bearer token, obtained using client_id and client_secret.\n",
    "\n",
    "    Raises:\n",
    "        HTTPError: An error occurs from the HTTP request.\n",
    "    \"\"\"\n",
    "    url = '{0}{1}'.format(host, quote(path.encode('utf8')))\n",
    "    assert CLIENT_ID, \"Please supply your client_id.\"\n",
    "    assert CLIENT_SECRET, \"Please supply your client_secret.\"\n",
    "    data = urlencode({\n",
    "        'client_id': CLIENT_ID,\n",
    "        'client_secret': CLIENT_SECRET,\n",
    "        'grant_type': GRANT_TYPE,\n",
    "    })\n",
    "    headers = {\n",
    "        'content-type': 'application/x-www-form-urlencoded',\n",
    "    }\n",
    "    response = requests.request('POST', url, data=data, headers=headers)\n",
    "    bearer_token = response.json()['access_token']\n",
    "    return bearer_token\n",
    "\n",
    "\n",
    "def request(host, path, bearer_token, url_params=None):\n",
    "    \"\"\"Given a bearer token, send a GET request to the API.\n",
    "\n",
    "    Args:\n",
    "        host (str): The domain host of the API.\n",
    "        path (str): The path of the API after the domain.\n",
    "        bearer_token (str): OAuth bearer token, obtained using client_id and client_secret.\n",
    "        url_params (dict): An optional set of query parameters in the request.\n",
    "\n",
    "    Returns:\n",
    "        dict: The JSON response from the request.\n",
    "\n",
    "    Raises:\n",
    "        HTTPError: An error occurs from the HTTP request.\n",
    "    \"\"\"\n",
    "    url_params = url_params or {}\n",
    "    url = '{0}{1}'.format(host, quote(path.encode('utf8')))\n",
    "    headers = {\n",
    "        'Authorization': 'Bearer %s' % bearer_token,\n",
    "    }\n",
    "\n",
    "    print(u'Querying {0} ...'.format(url))\n",
    "\n",
    "    response = requests.request('GET', url, headers=headers, params=url_params)\n",
    "\n",
    "    return response.json()\n",
    "\n",
    "\n",
    "def search(bearer_token, term, location):\n",
    "    \"\"\"Query the Search API by a search term and location.\n",
    "\n",
    "    Args:\n",
    "        term (str): The search term passed to the API.\n",
    "        location (str): The search location passed to the API.\n",
    "\n",
    "    Returns:\n",
    "        dict: The JSON response from the request.\n",
    "    \"\"\"\n",
    "\n",
    "    url_params = {\n",
    "        'term': term.replace(' ', '+'),\n",
    "        'location': location.replace(' ', '+'),\n",
    "        'limit': SEARCH_LIMIT\n",
    "    }\n",
    "    return request(API_HOST, SEARCH_PATH, bearer_token, url_params=url_params)\n",
    "\n",
    "\n",
    "def get_business(bearer_token, business_id):\n",
    "    \"\"\"Query the Business API by a business ID.\n",
    "\n",
    "    Args:\n",
    "        business_id (str): The ID of the business to query.\n",
    "\n",
    "    Returns:\n",
    "        dict: The JSON response from the request.\n",
    "    \"\"\"\n",
    "    business_path = BUSINESS_PATH + business_id\n",
    "\n",
    "    return request(API_HOST, business_path, bearer_token)\n",
    "\n",
    "\n",
    "def query_api(term, location):\n",
    "    \"\"\"Queries the API by the input values from the user.\n",
    "\n",
    "    Args:\n",
    "        term (str): The search term to query.\n",
    "        location (str): The location of the business to query.\n",
    "    \"\"\"\n",
    "    bearer_token = obtain_bearer_token(API_HOST, TOKEN_PATH)\n",
    "\n",
    "    response = search(bearer_token, term, location)\n",
    "\n",
    "    businesses = response.get('businesses')\n",
    "\n",
    "    if not businesses:\n",
    "        print(u'No businesses for {0} in {1} found.'.format(term, location))\n",
    "        return\n",
    "\n",
    "    business_id = businesses[0]['id']\n",
    "\n",
    "    print(u'{0} businesses found, querying business info ' \\\n",
    "        'for the top result \"{1}\" ...'.format(\n",
    "            len(businesses), business_id))\n",
    "    response = get_business(bearer_token, business_id)\n",
    "\n",
    "    print(u'Result for business \"{0}\" found:'.format(business_id))\n",
    "    pprint.pprint(response, indent=2)"
   ]
  },
  {
   "cell_type": "markdown",
   "metadata": {},
   "source": [
    "### Test case"
   ]
  },
  {
   "cell_type": "code",
   "execution_count": 7,
   "metadata": {
    "collapsed": true
   },
   "outputs": [],
   "source": [
    "# Defaults for our simple example.\n",
    "term = 'doctor'\n",
    "location = 'San Francisco, CA'\n",
    "SEARCH_LIMIT = 50"
   ]
  },
  {
   "cell_type": "code",
   "execution_count": 8,
   "metadata": {
    "collapsed": false
   },
   "outputs": [
    {
     "name": "stdout",
     "output_type": "stream",
     "text": [
      "Querying https://api.yelp.com/v3/businesses/search ...\n",
      "50 businesses found, querying business info for the top result \"david-shu-md-san-francisco\" ...\n",
      "Querying https://api.yelp.com/v3/businesses/david-shu-md-san-francisco ...\n",
      "Result for business \"david-shu-md-san-francisco\" found:\n",
      "{ u'categories': [{ u'alias': u'internalmed', u'title': u'Internal Medicine'}],\n",
      "  u'coordinates': { u'latitude': 37.73165, u'longitude': -122.47418},\n",
      "  u'display_phone': u'(415) 452-1200',\n",
      "  u'id': u'david-shu-md-san-francisco',\n",
      "  u'image_url': u'https://s3-media3.fl.yelpcdn.com/bphoto/nWVgX_p9VB0S5kK8u3ZCXQ/o.jpg',\n",
      "  u'is_claimed': False,\n",
      "  u'is_closed': False,\n",
      "  u'location': { u'address1': u'2645 Ocean Ave',\n",
      "                 u'address2': u'Ste 303',\n",
      "                 u'address3': u'',\n",
      "                 u'city': u'San Francisco',\n",
      "                 u'country': u'US',\n",
      "                 u'cross_streets': u'Lagunitas Dr & Woodacre Dr',\n",
      "                 u'display_address': [ u'2645 Ocean Ave',\n",
      "                                       u'Ste 303',\n",
      "                                       u'San Francisco, CA 94132'],\n",
      "                 u'state': u'CA',\n",
      "                 u'zip_code': u'94132'},\n",
      "  u'name': u'David Shu, MD',\n",
      "  u'phone': u'+14154521200',\n",
      "  u'photos': [ u'https://s3-media4.fl.yelpcdn.com/bphoto/nWVgX_p9VB0S5kK8u3ZCXQ/o.jpg'],\n",
      "  u'rating': 4.5,\n",
      "  u'review_count': 89,\n",
      "  u'transactions': [],\n",
      "  u'url': u'https://www.yelp.com/biz/david-shu-md-san-francisco?adjust_creative=ezS3PAsVkMfPq5bqVvAXUg&utm_campaign=yelp_api_v3&utm_medium=api_v3_business_lookup&utm_source=ezS3PAsVkMfPq5bqVvAXUg'}\n"
     ]
    }
   ],
   "source": [
    "try:\n",
    "    query_api(term, location)\n",
    "except HTTPError as error:\n",
    "    sys.exit(\n",
    "        'Encountered HTTP error {0} on {1}:\\n {2}\\nAbort program.'.format(\n",
    "            error.code,\n",
    "            error.url,\n",
    "            error.read(),\n",
    "        )\n",
    "    )"
   ]
  },
  {
   "cell_type": "code",
   "execution_count": null,
   "metadata": {
    "collapsed": true
   },
   "outputs": [],
   "source": []
  }
 ],
 "metadata": {
  "kernelspec": {
   "display_name": "Python 2",
   "language": "python",
   "name": "python2"
  },
  "language_info": {
   "codemirror_mode": {
    "name": "ipython",
    "version": 2
   },
   "file_extension": ".py",
   "mimetype": "text/x-python",
   "name": "python",
   "nbconvert_exporter": "python",
   "pygments_lexer": "ipython2",
   "version": "2.7.12"
  }
 },
 "nbformat": 4,
 "nbformat_minor": 2
}
