{
 "cells": [
  {
   "cell_type": "markdown",
   "metadata": {},
   "source": [
    "\n",
    "### Files required: SanFrancisco.csv, Addresses.csv"
   ]
  },
  {
   "cell_type": "markdown",
   "metadata": {},
   "source": [
    "### Libraries"
   ]
  },
  {
   "cell_type": "code",
   "execution_count": 3,
   "metadata": {
    "collapsed": false
   },
   "outputs": [],
   "source": [
    "import pandas as pd, numpy as np\n",
    "import os, sys, glob, ast, gpxpy.geo, urllib, urllib2, json, csv\n",
    "from random import randint\n",
    "from time import sleep\n",
    "import phonenumbers\n",
    "pd.options.mode.chained_assignment = None"
   ]
  },
  {
   "cell_type": "markdown",
   "metadata": {},
   "source": [
    "### Supporting Functions"
   ]
  },
  {
   "cell_type": "code",
   "execution_count": 4,
   "metadata": {
    "collapsed": true
   },
   "outputs": [],
   "source": [
    "def address_to_coordinates(address):\n",
    "    \"\"\"\n",
    "    Given a text address, returns the corresponding latitude and longitude\n",
    "\n",
    "    Input: Address (String)\n",
    "    \n",
    "    Output: Latitude, Longitude\n",
    "    \"\"\"    \n",
    "    sleep(randint(1,3))\n",
    "    params = {\n",
    "            'address' : address,\n",
    "            'sensor' : 'false',\n",
    "    }  \n",
    "    url = 'https://maps.google.com/maps/api/geocode/json?' + urllib.urlencode(params)\n",
    "\n",
    "    response = urllib2.urlopen(url)\n",
    "    result = json.load(response)\n",
    "    try:\n",
    "        location = result['results'][0]['geometry']['location']\n",
    "        latitude, longitude = location['lat'], location['lng']\n",
    "        return latitude, longitude\n",
    "    except:\n",
    "        latitude, longitude = None, None\n",
    "        return latitude, longitude\n",
    "\n",
    "def calc_dist(lat1, lon1, lat2, lon2):\n",
    "    \"\"\"\n",
    "    Given 2 pairs of latitude and longitude, returns the Haversine distance between them\n",
    "\n",
    "    Input: Latitude and Longitude of the 2 locations\n",
    "    \n",
    "    Output: Distance in meters\n",
    "    \"\"\"    \n",
    "    try:\n",
    "        return gpxpy.geo.haversine_distance(lat1, lon1, lat2, lon2)\n",
    "    except:\n",
    "        return None"
   ]
  },
  {
   "cell_type": "markdown",
   "metadata": {},
   "source": [
    "### Function to get nearest doctors"
   ]
  },
  {
   "cell_type": "code",
   "execution_count": 5,
   "metadata": {
    "collapsed": false
   },
   "outputs": [],
   "source": [
    "def getNearestDoctors(addr, specialty, n = 5, max_dist = 5):\n",
    "    \"\"\"\n",
    "    Given a text address and number of doctors (n), returns the n nearest doctors\n",
    "\n",
    "    Input: Address (String), number of doctors\n",
    "    \n",
    "    Output: CSV consisting of data for n nearest doctors\n",
    "    \"\"\"    \n",
    "    # Read in SF NPI data, and address to coordinates mapping for all SF doctors\n",
    "    sf_npi_data = pd.read_csv(\"SanFrancisco_withRatings.csv\")\n",
    "    address_data = pd.read_csv(\"Addresses.csv\")\n",
    "        \n",
    "    # Get unique doctors\n",
    "    sf_npi_data = sf_npi_data.drop_duplicates('Professional Enrollment ID')\n",
    "\n",
    "    # Remove duplicates from addresses\n",
    "    address_data = address_data.drop_duplicates()\n",
    "    \n",
    "    # Filter based on specialty\n",
    "    sf_npi_data = sf_npi_data.loc[sf_npi_data['Primary specialty'].isin(specialty)]\n",
    "    \n",
    "    # Remove Index column in case it's present in the CSVs\n",
    "    try:\n",
    "        address_data = address_data.drop('Unnamed: 0', axis = 1)\n",
    "        sf_npi_data = sf_npi_data.drop('Unnamed: 0', axis = 1)\n",
    "    except:\n",
    "        pass\n",
    "    \n",
    "    # Remove City from 'Line 1 Street Address' ('San Francisco' was appended to Line 1 Addresses to query Google Maps API)\n",
    "    address_data[u'Line 1 Street Address'] = address_data[u'Line 1 Street Address'].apply(lambda x: x[:-14])\n",
    "    \n",
    "    # Join addresses to sf_npi_data, to get Lat Lon for all rows\n",
    "    result = pd.merge(sf_npi_data, address_data, how='left', on=[u'Line 1 Street Address'])\n",
    "    result = result[pd.notnull(result['coordinates'])]\n",
    "    \n",
    "    # Get coordinates of queried address from Google Maps API\n",
    "    queryCoord = address_to_coordinates(addr)\n",
    "#     queryCoord = (37.790886, -122.392533)\n",
    "\n",
    "    # Get distance of all doctors from queried address\n",
    "    result['Distance'] = result['coordinates'].apply(lambda x: calc_dist(queryCoord[0], queryCoord[1], ast.literal_eval(x)[0], ast.literal_eval(x)[1]))\n",
    "        \n",
    "    # Converting to miles\n",
    "    result['Distance'] = result['Distance'] * 0.000621371\n",
    "    \n",
    "    # Subsetting based on max_dist\n",
    "    result = result.loc[result['Distance'] < max_dist]\n",
    "\n",
    "    # Output nearest doctors to CSV\n",
    "    result = result.sort_values(by='Distance', ascending=[True])\n",
    "    topresult = result.head(n)\n",
    "    \n",
    "    # Formatting phone numbers\n",
    "    topresult['Phone Number'] = topresult['Phone Number'].astype(int).astype(str)\n",
    "    topresult['Phone Number'] = topresult['Phone Number'].apply(lambda x: phonenumbers.format_number(phonenumbers.parse(x, 'US'), phonenumbers.PhoneNumberFormat.NATIONAL))\n",
    "    \n",
    "    # Selecting only relevant columns to be returned to user\n",
    "    topresult = topresult[['Last Name', 'First Name', 'Credential', 'Line 1 Street Address', 'Medical school name', 'Primary specialty', 'Distance', 'Phone Number', 'Hospital affiliation LBN 1']]\n",
    "    \n",
    "    # Replace NaN with blank\n",
    "    topresult = topresult.replace(np.nan, '', regex = True)\n",
    "    \n",
    "    # Converting dataframe to list of lists\n",
    "    topresult_list = topresult.values.tolist()\n",
    "    \n",
    "    return topresult_list"
   ]
  },
  {
   "cell_type": "markdown",
   "metadata": {},
   "source": [
    "### Query"
   ]
  },
  {
   "cell_type": "code",
   "execution_count": 6,
   "metadata": {
    "collapsed": false
   },
   "outputs": [
    {
     "data": {
      "text/plain": [
       "[['SREENIVASAN',\n",
       "  'MEERA',\n",
       "  '',\n",
       "  '201 SPEAR ST',\n",
       "  'UNIVERSITY OF VERMONT COLLEGE OF MEDICINE',\n",
       "  'GENERAL PRACTICE',\n",
       "  0.03881986876824784,\n",
       "  u'(415) 503-9277',\n",
       "  ''],\n",
       " ['SECEMSKY',\n",
       "  'BRIAN',\n",
       "  '',\n",
       "  '4 EMBARCADERO CTR',\n",
       "  'RUSH MEDICAL COLLEGE OF RUSH UNIVERSITY',\n",
       "  'GENERAL PRACTICE',\n",
       "  0.35930861432245187,\n",
       "  u'(415) 529-4566',\n",
       "  'SAN FRANCISCO GENERAL HOSPITAL'],\n",
       " ['SLADEK',\n",
       "  'JULIE',\n",
       "  '',\n",
       "  '4 EMBARCADERO CTR',\n",
       "  'OHIO STATE UNIVERSITY COLLEGE OF MEDICINE',\n",
       "  'GENERAL PRACTICE',\n",
       "  0.35930861432245187,\n",
       "  u'(415) 529-4566',\n",
       "  ''],\n",
       " ['MAIER',\n",
       "  'ELIZABETH',\n",
       "  '',\n",
       "  '4 EMBARCADERO CTR',\n",
       "  'MAYO MEDICAL SCHOOL',\n",
       "  'GENERAL PRACTICE',\n",
       "  0.35930861432245187,\n",
       "  u'(415) 529-4566',\n",
       "  'CALIFORNIA PACIFIC MEDICAL CTR-PACIFIC CAMPUS HOSP'],\n",
       " ['MEYER',\n",
       "  'HARRIS',\n",
       "  '',\n",
       "  '100 BUSH ST',\n",
       "  'LIFE CHIROPRACTIC COLLEGE - WEST',\n",
       "  'CHIROPRACTIC',\n",
       "  0.406873967509619,\n",
       "  u'(415) 956-3226',\n",
       "  '']]"
      ]
     },
     "execution_count": 6,
     "metadata": {},
     "output_type": "execute_result"
    }
   ],
   "source": [
    "getNearestDoctors(addr = '101 howard street', specialty = ['CHIROPRACTIC', 'GENERAL PRACTICE'], n = 5, max_dist = 5)"
   ]
  },
  {
   "cell_type": "code",
   "execution_count": null,
   "metadata": {
    "collapsed": false
   },
   "outputs": [],
   "source": []
  },
  {
   "cell_type": "code",
   "execution_count": null,
   "metadata": {
    "collapsed": false
   },
   "outputs": [],
   "source": []
  },
  {
   "cell_type": "code",
   "execution_count": null,
   "metadata": {
    "collapsed": true
   },
   "outputs": [],
   "source": []
  }
 ],
 "metadata": {
  "anaconda-cloud": {},
  "kernelspec": {
   "display_name": "Python 2",
   "language": "python",
   "name": "python2"
  },
  "language_info": {
   "codemirror_mode": {
    "name": "ipython",
    "version": 2
   },
   "file_extension": ".py",
   "mimetype": "text/x-python",
   "name": "python",
   "nbconvert_exporter": "python",
   "pygments_lexer": "ipython2",
   "version": "2.7.12"
  }
 },
 "nbformat": 4,
 "nbformat_minor": 2
}
