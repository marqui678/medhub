{
 "cells": [
  {
   "cell_type": "code",
   "execution_count": 90,
   "metadata": {
    "collapsed": true
   },
   "outputs": [],
   "source": [
    "import urllib2\n",
    "import time\n",
    "import random\n",
    "from bs4 import BeautifulSoup\n",
    "import sys, string, os, urlparse, re\n",
    "\n",
    "def fetch(url,delay=(2,5)):\n",
    "    \"\"\"\n",
    "    Simulate human random clicking x..y seconds then fetch URL.\n",
    "    Returns the actual page source fetched and the HTML object.\n",
    "    \"\"\"\n",
    "    time.sleep(random.randint(delay[0],delay[1])) # wait random seconds\n",
    "    try:\n",
    "        req = urllib2.Request(url, headers={'User-Agent': \"Resistance is futile\"})\n",
    "        response = urllib2.urlopen(req)\n",
    "    except ValueError as e:\n",
    "        print str(e)\n",
    "        return '', BeautifulSoup('', \"html.parser\")\n",
    "    page = response.read()\n",
    "    html = BeautifulSoup(page, \"html.parser\")\n",
    "    return (page,html)\n",
    "\n",
    "def crawl(link_tuples, outputdir):\n",
    "    i = 0\n",
    "    for link_tuple in link_tuples:\n",
    "        \n",
    "        href = \"https://medlineplus.gov/ency/\" + link_tuple[0] if not link_tuple[0].startswith(\"https\") else link_tuple[0]\n",
    "        \n",
    "        page,html = fetch(href,delay=(2,5)) \n",
    "        text = html.article.get_text(\" \")\n",
    "        filename = link_tuple[1].replace(\"/\", \"-\") + \".txt\"\n",
    "        f = open(os.path.join(outputdir,filename), \"w\")\n",
    "        f.write(text)\n",
    "        f.close()\n",
    "\n",
    "def parseMed(links):\n",
    "    \n",
    "    for link in links:\n",
    "        page,html = fetch(link, delay = (0,0))\n",
    "        link_tuples = []\n",
    "        for link in html.find_all(href=re.compile(\"article\")):\n",
    "            link_tuples.append((link['href'], link.text))\n",
    "        crawl(link_tuples, outputdir)"
   ]
  },
  {
   "cell_type": "code",
   "execution_count": 91,
   "metadata": {
    "collapsed": true
   },
   "outputs": [],
   "source": [
    "import sys\n",
    "reload(sys)\n",
    "sys.setdefaultencoding('utf-8')"
   ]
  },
  {
   "cell_type": "code",
   "execution_count": 92,
   "metadata": {
    "collapsed": false
   },
   "outputs": [],
   "source": [
    "outputdir = \"/Users/shivakanththudi/Desktop/appdev/data\"\n",
    "if not os.path.exists(outputdir):\n",
    "    os.makedirs(outputdir)\n",
    "\n",
    "links = [\"https://medlineplus.gov/ency/encyclopedia_%s.htm\" % (s,) for s in string.ascii_uppercase[1:]]"
   ]
  },
  {
   "cell_type": "code",
   "execution_count": 93,
   "metadata": {
    "collapsed": false
   },
   "outputs": [],
   "source": [
    "parseMed(links)"
   ]
  },
  {
   "cell_type": "code",
   "execution_count": null,
   "metadata": {
    "collapsed": true
   },
   "outputs": [],
   "source": []
  },
  {
   "cell_type": "code",
   "execution_count": 63,
   "metadata": {
    "collapsed": true
   },
   "outputs": [],
   "source": [
    "page,html = fetch(\"https://medlineplus.gov/ency/article/003055.htm\")"
   ]
  },
  {
   "cell_type": "code",
   "execution_count": 64,
   "metadata": {
    "collapsed": false
   },
   "outputs": [],
   "source": [
    "# print html.prettify()"
   ]
  },
  {
   "cell_type": "code",
   "execution_count": 67,
   "metadata": {
    "collapsed": false
   },
   "outputs": [],
   "source": [
    "a = html.article.text"
   ]
  },
  {
   "cell_type": "code",
   "execution_count": 68,
   "metadata": {
    "collapsed": true
   },
   "outputs": [],
   "source": [
    "b = html.article.get_text()"
   ]
  },
  {
   "cell_type": "code",
   "execution_count": 69,
   "metadata": {
    "collapsed": false
   },
   "outputs": [
    {
     "data": {
      "text/plain": [
       "True"
      ]
     },
     "execution_count": 69,
     "metadata": {},
     "output_type": "execute_result"
    }
   ],
   "source": [
    "a == b"
   ]
  },
  {
   "cell_type": "code",
   "execution_count": 27,
   "metadata": {
    "collapsed": false
   },
   "outputs": [
    {
     "name": "stdout",
     "output_type": "stream",
     "text": [
      "unknown url type: article/002480.htm\n"
     ]
    }
   ],
   "source": [
    "for link in html.find_all(href=re.compile(\"article\"))[35:36]:\n",
    "    page, html = fetch(link['href'], delay = (0,0))"
   ]
  },
  {
   "cell_type": "code",
   "execution_count": 88,
   "metadata": {
    "collapsed": false
   },
   "outputs": [
    {
     "data": {
      "text/plain": [
       "'B-cell leukemia-lymphoma panel.txt'"
      ]
     },
     "execution_count": 88,
     "metadata": {},
     "output_type": "execute_result"
    }
   ],
   "source": [
    "\"B-cell leukemia/lymphoma panel.txt\".replace(\"/\", \"-\")"
   ]
  },
  {
   "cell_type": "code",
   "execution_count": 89,
   "metadata": {
    "collapsed": false
   },
   "outputs": [
    {
     "data": {
      "text/plain": [
       "'BCDEFGHIJKLMNOPQRSTUVWXYZ'"
      ]
     },
     "execution_count": 89,
     "metadata": {},
     "output_type": "execute_result"
    }
   ],
   "source": [
    "string.ascii_uppercase[1:]"
   ]
  },
  {
   "cell_type": "code",
   "execution_count": null,
   "metadata": {
    "collapsed": true
   },
   "outputs": [],
   "source": []
  }
 ],
 "metadata": {
  "anaconda-cloud": {},
  "kernelspec": {
   "display_name": "Python [conda root]",
   "language": "python",
   "name": "conda-root-py"
  },
  "language_info": {
   "codemirror_mode": {
    "name": "ipython",
    "version": 2
   },
   "file_extension": ".py",
   "mimetype": "text/x-python",
   "name": "python",
   "nbconvert_exporter": "python",
   "pygments_lexer": "ipython2",
   "version": "2.7.12"
  }
 },
 "nbformat": 4,
 "nbformat_minor": 1
}
